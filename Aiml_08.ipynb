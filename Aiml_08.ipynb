{
  "nbformat": 4,
  "nbformat_minor": 0,
  "metadata": {
    "colab": {
      "provenance": [],
      "authorship_tag": "ABX9TyMzEyyDvgXo1fTwdjx5Pciz",
      "include_colab_link": true
    },
    "kernelspec": {
      "name": "python3",
      "display_name": "Python 3"
    },
    "language_info": {
      "name": "python"
    }
  },
  "cells": [
    {
      "cell_type": "markdown",
      "metadata": {
        "id": "view-in-github",
        "colab_type": "text"
      },
      "source": [
        "<a href=\"https://colab.research.google.com/github/2303A51160/2025BT17-18/blob/main/Aiml_08.ipynb\" target=\"_parent\"><img src=\"https://colab.research.google.com/assets/colab-badge.svg\" alt=\"Open In Colab\"/></a>"
      ]
    },
    {
      "cell_type": "code",
      "execution_count": null,
      "metadata": {
        "id": "zr6rgJZ-yk-n"
      },
      "outputs": [],
      "source": [
        "import numpy as np\n",
        "list=[6, 7, 8, 9, 10]\n",
        "array=np.array([1, 2, 3, 4, 5])\n",
        "print(\"Type of list:\", type(list))\n",
        "print(\"Type of array:\", type(array))\n",
        "list_multiplication=[x * 2 for x in list]\n",
        "array_multiplication=array * 2\n",
        "\n",
        "list_div=[x / 2 for x in list]\n",
        "array_div=array/2\n",
        "\n",
        "list_poweroff=[x ** 2 for x in list]\n",
        "array_poweroff=np.power(array, 2)\n",
        "\n",
        "print(\"List after multiplication:\", list_multiplication)\n",
        "print(\"Array after multiplication:\", array_multiplication)\n",
        "\n",
        "print(\"List after divi:\", list_div)\n",
        "print(\"Array after divi:\", array_div)\n",
        "\n",
        "print(\"List after poweroff:\", list_poweroff)\n",
        "print(\"Array after poweroff:\", array_poweroff)\n",
        "\n",
        "array1 = np.array([1, 0, 3])\n",
        "array2 = np.array([3, 0, 1])\n",
        "combined_text = f\"Addition of Two: array1 + array2 = {array1 + array2}\"\n",
        "print(combined_text)\n",
        "sin_values = np.sin(array)\n",
        "log_values = np.log(array)\n",
        "log2_values = np.log2(array)\n",
        "exp_values = np.exp(array)\n",
        "print(\"np.sin(array):\", sin_values)\n",
        "print(\"np.log(array):\", log_values)\n",
        "print(\"np.log2(array):\", log2_values)\n",
        "print(\"np.exp(array):\", exp_values)\n"
      ]
    }
  ]
}